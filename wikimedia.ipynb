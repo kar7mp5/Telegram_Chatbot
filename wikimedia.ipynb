{
 "cells": [
  {
   "cell_type": "code",
   "execution_count": 8,
   "metadata": {},
   "outputs": [
    {
     "name": "stdout",
     "output_type": "stream",
     "text": [
      "['Mixture of experts', 'Moe', 'Moe (slang)', 'Moe Howard', 'Moe Greene', 'Eeny, meeny, miny, moe', 'Moe Szyslak', 'Mamba (deep learning architecture)', 'Moe anthropomorphism', 'Ministry of Education (India)']\n"
     ]
    }
   ],
   "source": [
    "import wikipedia\n",
    "print(wikipedia.search(\"MoE\"))\n",
    "article = wikipedia.page(wikipedia.search(\"MoE\")[0])"
   ]
  },
  {
   "cell_type": "code",
   "execution_count": 12,
   "metadata": {},
   "outputs": [
    {
     "name": "stdout",
     "output_type": "stream",
     "text": [
      "<class 'str'>\n"
     ]
    }
   ],
   "source": [
    "print(type(article.content))"
   ]
  }
 ],
 "metadata": {
  "kernelspec": {
   "display_name": "venv",
   "language": "python",
   "name": "python3"
  },
  "language_info": {
   "codemirror_mode": {
    "name": "ipython",
    "version": 3
   },
   "file_extension": ".py",
   "mimetype": "text/x-python",
   "name": "python",
   "nbconvert_exporter": "python",
   "pygments_lexer": "ipython3",
   "version": "3.10.12"
  }
 },
 "nbformat": 4,
 "nbformat_minor": 2
}
