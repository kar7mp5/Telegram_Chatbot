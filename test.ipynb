{
 "cells": [
  {
   "cell_type": "code",
   "execution_count": 13,
   "metadata": {},
   "outputs": [],
   "source": [
    "from langchain_community.llms import Ollama\n",
    "from langchain import PromptTemplate\n",
    "\n",
    "model = Ollama(model='gemma2:2b', stop=[\"<|eot_id|>\"]) # Added the stop token"
   ]
  },
  {
   "cell_type": "code",
   "execution_count": 14,
   "metadata": {},
   "outputs": [],
   "source": [
    "text = input()\n",
    "user_prompt = f\"{text}\"\n",
    "\n",
    "system_prompt = \"\"\"\n",
    "Think and write your step-by-step reasoning before responding.  \n",
    "Please write only the fully spelled-out form of the acronym in English that corresponds to the following user's question, without abbreviations or additional text.  \n",
    "\n",
    "For example, if the user asks 'RAG,' output 'Retrieval-Augmented Generation,' or for 'CNN,' output 'Convolutional Neural Network.'\n",
    "\n",
    "If the user asks about 'MoE,' the output should be 'Mixture of Experts' and nothing else.\n",
    "\"\"\""
   ]
  },
  {
   "cell_type": "code",
   "execution_count": 15,
   "metadata": {},
   "outputs": [],
   "source": [
    "template = \"\"\"\n",
    "    <|begin_of_text|>\n",
    "    <|start_header_id|>system<|end_header_id|>\n",
    "    {system_prompt}\n",
    "    <|eot_id|>\n",
    "    <|start_header_id|>user<|end_header_id|>\n",
    "    {user_prompt}\n",
    "    <|eot_id|>\n",
    "    <|start_header_id|>assistant<|end_header_id|>\n",
    "\"\"\"\n",
    "\n",
    "prompt = PromptTemplate(\n",
    "    input_variables=['system_prompt', 'user_prompt'],\n",
    "    template=template\n",
    ")"
   ]
  },
  {
   "cell_type": "code",
   "execution_count": 16,
   "metadata": {},
   "outputs": [],
   "source": [
    "key_word = model(prompt.format(system_prompt=system_prompt, user_prompt=user_prompt))"
   ]
  },
  {
   "cell_type": "code",
   "execution_count": 17,
   "metadata": {},
   "outputs": [
    {
     "data": {
      "text/plain": [
       "\"Dijkstra's Algorithm\""
      ]
     },
     "execution_count": 17,
     "metadata": {},
     "output_type": "execute_result"
    }
   ],
   "source": [
    "key_word.strip()"
   ]
  },
  {
   "cell_type": "code",
   "execution_count": 18,
   "metadata": {},
   "outputs": [
    {
     "data": {
      "text/plain": [
       "\"https://en.wikipedia.org/wiki/Dijkstra's Algorithm\""
      ]
     },
     "execution_count": 18,
     "metadata": {},
     "output_type": "execute_result"
    }
   ],
   "source": [
    "f\"https://en.wikipedia.org/wiki/{key_word.strip()}\""
   ]
  },
  {
   "cell_type": "code",
   "execution_count": 19,
   "metadata": {},
   "outputs": [],
   "source": [
    "from langchain.document_loaders import WebBaseLoader\n",
    "from langchain.text_splitter import RecursiveCharacterTextSplitter\n",
    "\n",
    "loader = WebBaseLoader(f\"https://en.wikipedia.org/wiki/{key_word.strip()}\")\n",
    "data = loader.load()\n",
    "\n",
    "text_splitter=RecursiveCharacterTextSplitter(chunk_size=500, chunk_overlap=0) \n",
    "all_splits = text_splitter.split_documents(data)"
   ]
  },
  {
   "cell_type": "code",
   "execution_count": 20,
   "metadata": {},
   "outputs": [],
   "source": [
    "from langchain.vectorstores import Chroma\n",
    "from langchain.embeddings import SentenceTransformerEmbeddings\n",
    "\n",
    "embeddings = SentenceTransformerEmbeddings(model_name=\"all-MiniLM-L6-v2\")\n",
    "vectorstore = Chroma.from_documents(documents=all_splits, embedding=embeddings)\n",
    "# docs = vectorstore.similarity_search(\"\")"
   ]
  },
  {
   "cell_type": "code",
   "execution_count": 21,
   "metadata": {},
   "outputs": [],
   "source": [
    "user_prompt = f\"{user_prompt} on detail.\"\n",
    "\n",
    "system_prompt = \"\"\"\n",
    "Please write all conversations in Korean(한국어).\n",
    "Think and write your step-by-step reasoning before responding.\n",
    "Write the article title using ## in Markdown syntax.\n",
    "Please be as specific as possible in your answer.\n",
    "\"\"\""
   ]
  },
  {
   "cell_type": "code",
   "execution_count": 22,
   "metadata": {},
   "outputs": [],
   "source": [
    "from langchain.chains import RetrievalQA\n",
    "\n",
    "qachain = RetrievalQA.from_chain_type(model, retriever=vectorstore.as_retriever())\n",
    "\n",
    "response = qachain(prompt.format(system_prompt=system_prompt, user_prompt=user_prompt))"
   ]
  },
  {
   "cell_type": "code",
   "execution_count": 23,
   "metadata": {},
   "outputs": [
    {
     "data": {
      "text/plain": [
       "{'query': '\\n    <|begin_of_text|>\\n    <|start_header_id|>system<|end_header_id|>\\n    \\nPlease write all conversations in Korean(한국어).\\nThink and write your step-by-step reasoning before responding.\\nWrite the article title using ## in Markdown syntax.\\nPlease be as specific as possible in your answer.\\n\\n    <|eot_id|>\\n    <|start_header_id|>user<|end_header_id|>\\n    다익스트라 Cpp로 구현해줘 on detail.\\n    <|eot_id|>\\n    <|start_header_id|>assistant<|end_header_id|>\\n',\n",
       " 'result': '## 다익스트라 알고리즘 (C++) 구현 및 상세 설명\\n\\n다익스트라 알고리즘은 그래프의 각 노드 사이에 직선 거리가 가장 짧은 경로를 찾는 방법을 의미합니다. 이 알고리즘은 크기가 작거나 중간 단계에서 많은 양의 데이터 처리를 할 때 적용됩니다.  C++를 사용하여 다익스트라 알고리즘을 구현하는 방법과 상세한 설명을 보여드릴게요.\\n\\n**1. 다익스트라 알고리즘의 기초**\\n\\n다익스트라 알고리즘은 그래프의 시작 노드에서 최종 노드까지 가는 가장 빠른 경로를 찾아냅니다. 이러한 목표를 달성하기 위해,  알고리즘은 다음과 같은 단계를 거치게 됩니다:\\n\\n* **가장 작은 거리:** 시작 노드부터 최종 노드까지 가는 거리가 가장 작은 노드와 그 연결점을 찾기\\n* **탐색 방법:** 시작 노드에서 각 노드까지의 경로를 계산하고, 최소 거리를 기준으로 노드들을 순차적으로 방문\\n\\n**2. C++ 구현**\\n\\n다익스트라 알고리즘을 구현하는 C++ 코드 예시:\\n\\n\\n```c++\\n#include <iostream>\\n#include <vector>\\n#include <queue>\\n#include <limits.h> \\n\\nusing namespace std;\\n\\n// 노드 정보\\nstruct Node {\\n    int node_id; // 노드의 ID\\n    int distance;  // 노드에서 최소 거리\\n};\\n\\n// 그래프를 나타내는 구조\\nvector<vector<pair<int, int>>> graph; \\n\\n// 다익스트라 알고리즘을 사용한 경로 계산 함수\\nvoid dijkstra(Node start) {\\n    // 모든 노드의 최소 거리 초기화\\n    vector<int> distance(graph.size(), INT_MAX); \\n    distance[start.node_id] = 0;  \\n\\n    // 우선순위를 위한 큐 생성\\n    priority_queue<pair<int, int>, vector<pair<int, int>>, greater<pair<int, int>>> pq; // 최소 거리의 노드와 그 노드를 기준으로 비교하는 우선순위 큐\\n\\n    pq.push(make_pair(0, start.node_id)); // 시작 노드에서 가장 작은 거리를 가진 노드 추가\\n\\n    while (!pq.empty()) {\\n        int current_distance = pq.top().first;\\n        int currentNode = pq.top().second;  \\n        pq.pop(); \\n\\n        // 현재 노드의 모든 연결노드에 대한 최소 거리 계산\\n        for (auto neighbor : graph[currentNode]) { \\n            int nextNode = neighbor.first;\\n            int weight = neighbor.second;\\n\\n            if (distance[nextNode] > current_distance + weight) {\\n                // 새로운 경로 확인\\n                distance[nextNode] = current_distance + weight; // 현재 노드에서 연결된 노드에 대한 최소 거리 계산\\n                pq.push(make_pair(distance[nextNode], nextNode));  // 우선순위 큐에 추가\\n            } \\n        } \\n    } \\n\\n    for (int i = 0; i < graph.size(); ++i) {\\n        if (distance[i] != INT_MAX){ // 노드의 최소 거리값이 infinity인 경우 제외\\n            cout << \"Node \" << i << \": Distance: \" << distance[i] << endl; // 노드와 그 연결점까지의 최소 거리 출력 \\n        } \\n    }\\n}\\n\\nint main() {\\n    // 그래프 정의 (예시)\\n    graph = {{}, {}, {}}; \\n\\n    // 시작 노드 설정 (예시: 시작 노드 번호)\\n    Node start;\\n    start.node_id = 0; \\n\\n\\n    dijkstra(start);  // 다익스트라 알고리즘 실행\\n\\n    return 0; \\n} \\n```\\n\\n\\n**3. 상세 설명 및 개선점**\\n\\n* **Graph 데이터 구조:**  `graph`를 이용하여 그래프를 나타내며, 각 노드와 연결된 간선 (pair)을 저장합니다.\\n* **Initialization of distances:** `distance` vector에 모든 노드의 최소 거리를 초기화 (INT_MAX값으로 설정). 시작 노드에서부터 가장 작은 거리로 시작합니다. \\n* **Priority Queue:**  `priority_queue`를 이용하여 최소 거리의 노드들을 우선순위 순서로 관리하는 방식을 사용.\\n* **Dijkstra\\'s Algorithm (Algorithm) :** 이 코드는 Dijkstra\\'s 알고리즘의 기본적인 구조를 보여줍니다. \\n    * 각 노드가 연결된 노드들과 그 거리를 계산하여 최소 거리로 이동하는 방식을 사용한다.\\n\\n**4. 추가 고려 사항:**\\n\\n* **Graph 형태:** 다익스트라 알고리즘은 그래프의 형태에 따라 구현 \\n* **Weight System:**  지정된 weight system을 이용하여 간선의 값과 연결된 노드들을 계산\\n* **Complexity Analysis:**  다익스트라 알고리즘은 주로 그래프가 작거나 중간 단계에서 많이 사용되는 경우에 적합\\n\\n\\n \\n\\n\\n\\n'}"
      ]
     },
     "execution_count": 23,
     "metadata": {},
     "output_type": "execute_result"
    }
   ],
   "source": [
    "response"
   ]
  },
  {
   "cell_type": "code",
   "execution_count": 24,
   "metadata": {},
   "outputs": [
    {
     "name": "stdout",
     "output_type": "stream",
     "text": [
      "## 다익스트라 알고리즘 (C++) 구현 및 상세 설명\n",
      "\n",
      "다익스트라 알고리즘은 그래프의 각 노드 사이에 직선 거리가 가장 짧은 경로를 찾는 방법을 의미합니다. 이 알고리즘은 크기가 작거나 중간 단계에서 많은 양의 데이터 처리를 할 때 적용됩니다.  C++를 사용하여 다익스트라 알고리즘을 구현하는 방법과 상세한 설명을 보여드릴게요.\n",
      "\n",
      "**1. 다익스트라 알고리즘의 기초**\n",
      "\n",
      "다익스트라 알고리즘은 그래프의 시작 노드에서 최종 노드까지 가는 가장 빠른 경로를 찾아냅니다. 이러한 목표를 달성하기 위해,  알고리즘은 다음과 같은 단계를 거치게 됩니다:\n",
      "\n",
      "* **가장 작은 거리:** 시작 노드부터 최종 노드까지 가는 거리가 가장 작은 노드와 그 연결점을 찾기\n",
      "* **탐색 방법:** 시작 노드에서 각 노드까지의 경로를 계산하고, 최소 거리를 기준으로 노드들을 순차적으로 방문\n",
      "\n",
      "**2. C++ 구현**\n",
      "\n",
      "다익스트라 알고리즘을 구현하는 C++ 코드 예시:\n",
      "\n",
      "\n",
      "```c++\n",
      "#include <iostream>\n",
      "#include <vector>\n",
      "#include <queue>\n",
      "#include <limits.h> \n",
      "\n",
      "using namespace std;\n",
      "\n",
      "// 노드 정보\n",
      "struct Node {\n",
      "    int node_id; // 노드의 ID\n",
      "    int distance;  // 노드에서 최소 거리\n",
      "};\n",
      "\n",
      "// 그래프를 나타내는 구조\n",
      "vector<vector<pair<int, int>>> graph; \n",
      "\n",
      "// 다익스트라 알고리즘을 사용한 경로 계산 함수\n",
      "void dijkstra(Node start) {\n",
      "    // 모든 노드의 최소 거리 초기화\n",
      "    vector<int> distance(graph.size(), INT_MAX); \n",
      "    distance[start.node_id] = 0;  \n",
      "\n",
      "    // 우선순위를 위한 큐 생성\n",
      "    priority_queue<pair<int, int>, vector<pair<int, int>>, greater<pair<int, int>>> pq; // 최소 거리의 노드와 그 노드를 기준으로 비교하는 우선순위 큐\n",
      "\n",
      "    pq.push(make_pair(0, start.node_id)); // 시작 노드에서 가장 작은 거리를 가진 노드 추가\n",
      "\n",
      "    while (!pq.empty()) {\n",
      "        int current_distance = pq.top().first;\n",
      "        int currentNode = pq.top().second;  \n",
      "        pq.pop(); \n",
      "\n",
      "        // 현재 노드의 모든 연결노드에 대한 최소 거리 계산\n",
      "        for (auto neighbor : graph[currentNode]) { \n",
      "            int nextNode = neighbor.first;\n",
      "            int weight = neighbor.second;\n",
      "\n",
      "            if (distance[nextNode] > current_distance + weight) {\n",
      "                // 새로운 경로 확인\n",
      "                distance[nextNode] = current_distance + weight; // 현재 노드에서 연결된 노드에 대한 최소 거리 계산\n",
      "                pq.push(make_pair(distance[nextNode], nextNode));  // 우선순위 큐에 추가\n",
      "            } \n",
      "        } \n",
      "    } \n",
      "\n",
      "    for (int i = 0; i < graph.size(); ++i) {\n",
      "        if (distance[i] != INT_MAX){ // 노드의 최소 거리값이 infinity인 경우 제외\n",
      "            cout << \"Node \" << i << \": Distance: \" << distance[i] << endl; // 노드와 그 연결점까지의 최소 거리 출력 \n",
      "        } \n",
      "    }\n",
      "}\n",
      "\n",
      "int main() {\n",
      "    // 그래프 정의 (예시)\n",
      "    graph = {{}, {}, {}}; \n",
      "\n",
      "    // 시작 노드 설정 (예시: 시작 노드 번호)\n",
      "    Node start;\n",
      "    start.node_id = 0; \n",
      "\n",
      "\n",
      "    dijkstra(start);  // 다익스트라 알고리즘 실행\n",
      "\n",
      "    return 0; \n",
      "} \n",
      "```\n",
      "\n",
      "\n",
      "**3. 상세 설명 및 개선점**\n",
      "\n",
      "* **Graph 데이터 구조:**  `graph`를 이용하여 그래프를 나타내며, 각 노드와 연결된 간선 (pair)을 저장합니다.\n",
      "* **Initialization of distances:** `distance` vector에 모든 노드의 최소 거리를 초기화 (INT_MAX값으로 설정). 시작 노드에서부터 가장 작은 거리로 시작합니다. \n",
      "* **Priority Queue:**  `priority_queue`를 이용하여 최소 거리의 노드들을 우선순위 순서로 관리하는 방식을 사용.\n",
      "* **Dijkstra's Algorithm (Algorithm) :** 이 코드는 Dijkstra's 알고리즘의 기본적인 구조를 보여줍니다. \n",
      "    * 각 노드가 연결된 노드들과 그 거리를 계산하여 최소 거리로 이동하는 방식을 사용한다.\n",
      "\n",
      "**4. 추가 고려 사항:**\n",
      "\n",
      "* **Graph 형태:** 다익스트라 알고리즘은 그래프의 형태에 따라 구현 \n",
      "* **Weight System:**  지정된 weight system을 이용하여 간선의 값과 연결된 노드들을 계산\n",
      "* **Complexity Analysis:**  다익스트라 알고리즘은 주로 그래프가 작거나 중간 단계에서 많이 사용되는 경우에 적합\n",
      "\n",
      "\n",
      " \n",
      "\n",
      "\n",
      "\n",
      "\n"
     ]
    }
   ],
   "source": [
    "print(response['result'])"
   ]
  }
 ],
 "metadata": {
  "kernelspec": {
   "display_name": "venv",
   "language": "python",
   "name": "python3"
  },
  "language_info": {
   "codemirror_mode": {
    "name": "ipython",
    "version": 3
   },
   "file_extension": ".py",
   "mimetype": "text/x-python",
   "name": "python",
   "nbconvert_exporter": "python",
   "pygments_lexer": "ipython3",
   "version": "3.10.12"
  }
 },
 "nbformat": 4,
 "nbformat_minor": 2
}
