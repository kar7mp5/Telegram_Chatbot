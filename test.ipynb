{
 "cells": [
  {
   "cell_type": "code",
   "execution_count": 1,
   "metadata": {},
   "outputs": [
    {
     "name": "stderr",
     "output_type": "stream",
     "text": [
      "/tmp/ipykernel_17086/1956216430.py:4: LangChainDeprecationWarning: The class `Ollama` was deprecated in LangChain 0.3.1 and will be removed in 1.0.0. An updated version of the class exists in the :class:`~langchain-ollama package and should be used instead. To use it run `pip install -U :class:`~langchain-ollama` and import as `from :class:`~langchain_ollama import OllamaLLM``.\n",
      "  model = Ollama(model='gemma2:2b', stop=[\"<|eot_id|>\"]) # Added the stop token\n"
     ]
    }
   ],
   "source": [
    "from langchain_community.llms import Ollama\n",
    "from langchain import PromptTemplate\n",
    "\n",
    "model = Ollama(model='gemma2:2b', stop=[\"<|eot_id|>\"]) # Added the stop token"
   ]
  },
  {
   "cell_type": "code",
   "execution_count": 2,
   "metadata": {},
   "outputs": [],
   "source": [
    "text = input()\n",
    "user_prompt = f\"{text}\"\n",
    "\n",
    "system_prompt = \"\"\"\n",
    "Think and write your step-by-step reasoning before responding.  \n",
    "Please write only the fully spelled-out form of the acronym in English that corresponds to the following user's question, without abbreviations or additional text.  \n",
    "\n",
    "For example, if the user asks 'RAG,' output 'Retrieval-Augmented Generation,' or for 'CNN,' output 'Convolutional Neural Network.'\n",
    "\n",
    "If the user asks about 'MoE,' the output should be 'Mixture of Experts' and nothing else.\n",
    "\"\"\""
   ]
  },
  {
   "cell_type": "code",
   "execution_count": 3,
   "metadata": {},
   "outputs": [],
   "source": [
    "template = \"\"\"\n",
    "    <|begin_of_text|>\n",
    "    <|start_header_id|>system<|end_header_id|>\n",
    "    {system_prompt}\n",
    "    <|eot_id|>\n",
    "    <|start_header_id|>user<|end_header_id|>\n",
    "    {user_prompt}\n",
    "    <|eot_id|>\n",
    "    <|start_header_id|>assistant<|end_header_id|>\n",
    "\"\"\"\n",
    "\n",
    "prompt = PromptTemplate(\n",
    "    input_variables=['system_prompt', 'user_prompt'],\n",
    "    template=template\n",
    ")"
   ]
  },
  {
   "cell_type": "code",
   "execution_count": 4,
   "metadata": {},
   "outputs": [
    {
     "name": "stderr",
     "output_type": "stream",
     "text": [
      "/tmp/ipykernel_17086/4220479965.py:1: LangChainDeprecationWarning: The method `BaseLLM.__call__` was deprecated in langchain-core 0.1.7 and will be removed in 1.0. Use :meth:`~invoke` instead.\n",
      "  key_word = model(prompt.format(system_prompt=system_prompt, user_prompt=user_prompt))\n"
     ]
    }
   ],
   "source": [
    "key_word = model(prompt.format(system_prompt=system_prompt, user_prompt=user_prompt))"
   ]
  },
  {
   "cell_type": "code",
   "execution_count": 5,
   "metadata": {},
   "outputs": [
    {
     "data": {
      "text/plain": [
       "'Question'"
      ]
     },
     "execution_count": 5,
     "metadata": {},
     "output_type": "execute_result"
    }
   ],
   "source": [
    "key_word.strip()"
   ]
  },
  {
   "cell_type": "code",
   "execution_count": 6,
   "metadata": {},
   "outputs": [
    {
     "data": {
      "text/plain": [
       "'https://en.wikipedia.org/wiki/Question'"
      ]
     },
     "execution_count": 6,
     "metadata": {},
     "output_type": "execute_result"
    }
   ],
   "source": [
    "f\"https://en.wikipedia.org/wiki/{key_word.strip()}\""
   ]
  },
  {
   "cell_type": "code",
   "execution_count": 7,
   "metadata": {},
   "outputs": [
    {
     "name": "stderr",
     "output_type": "stream",
     "text": [
      "USER_AGENT environment variable not set, consider setting it to identify your requests.\n"
     ]
    }
   ],
   "source": [
    "from langchain.document_loaders import WebBaseLoader\n",
    "from langchain.text_splitter import RecursiveCharacterTextSplitter\n",
    "\n",
    "loader = WebBaseLoader(f\"https://en.wikipedia.org/wiki/{key_word.strip()}\")\n",
    "data = loader.load()\n",
    "\n",
    "text_splitter=RecursiveCharacterTextSplitter(chunk_size=500, chunk_overlap=0) \n",
    "all_splits = text_splitter.split_documents(data)"
   ]
  },
  {
   "cell_type": "code",
   "execution_count": null,
   "metadata": {},
   "outputs": [
    {
     "name": "stderr",
     "output_type": "stream",
     "text": [
      "/tmp/ipykernel_17086/1634823700.py:4: LangChainDeprecationWarning: The class `HuggingFaceEmbeddings` was deprecated in LangChain 0.2.2 and will be removed in 1.0. An updated version of the class exists in the :class:`~langchain-huggingface package and should be used instead. To use it run `pip install -U :class:`~langchain-huggingface` and import as `from :class:`~langchain_huggingface import HuggingFaceEmbeddings``.\n",
      "  embeddings = SentenceTransformerEmbeddings(model_name=\"all-MiniLM-L6-v2\")\n",
      "/home/kar/Projects/Telegram_Chatbot/venv/lib/python3.10/site-packages/sentence_transformers/cross_encoder/CrossEncoder.py:13: TqdmWarning: IProgress not found. Please update jupyter and ipywidgets. See https://ipywidgets.readthedocs.io/en/stable/user_install.html\n",
      "  from tqdm.autonotebook import tqdm, trange\n"
     ]
    }
   ],
   "source": [
    "from langchain.vectorstores import Chroma\n",
    "from langchain.embeddings import SentenceTransformerEmbeddings\n",
    "\n",
    "embeddings = SentenceTransformerEmbeddings(model_name=\"all-MiniLM-L6-v2\")\n",
    "vectorstore = Chroma.from_documents(documents=all_splits, embedding=embeddings)\n",
    "# docs = vectorstore.similarity_search(\"\")"
   ]
  },
  {
   "cell_type": "code",
   "execution_count": 9,
   "metadata": {},
   "outputs": [],
   "source": [
    "user_prompt = f\"{user_prompt} on detail.\"\n",
    "\n",
    "system_prompt = \"\"\"\n",
    "Please write all conversations in Korean(한국어).\n",
    "Think and write your step-by-step reasoning before responding.\n",
    "Write the article title using # in Markdown syntax.\n",
    "Please be as specific as possible in your answer.\n",
    "\"\"\""
   ]
  },
  {
   "cell_type": "code",
   "execution_count": 10,
   "metadata": {},
   "outputs": [
    {
     "name": "stderr",
     "output_type": "stream",
     "text": [
      "/tmp/ipykernel_16595/2827055214.py:5: LangChainDeprecationWarning: The method `Chain.__call__` was deprecated in langchain 0.1.0 and will be removed in 1.0. Use :meth:`~invoke` instead.\n",
      "  response = qachain(prompt.format(system_prompt=system_prompt, user_prompt=user_prompt))\n",
      "Number of requested results 4 is greater than number of elements in index 3, updating n_results = 3\n"
     ]
    }
   ],
   "source": [
    "from langchain.chains import RetrievalQA\n",
    "\n",
    "qachain = RetrievalQA.from_chain_type(model, retriever=vectorstore.as_retriever())\n",
    "\n",
    "response = qachain(prompt.format(system_prompt=system_prompt, user_prompt=user_prompt))"
   ]
  },
  {
   "cell_type": "code",
   "execution_count": 11,
   "metadata": {},
   "outputs": [
    {
     "data": {
      "text/plain": [
       "{'query': '\\n    <|begin_of_text|>\\n    <|start_header_id|>system<|end_header_id|>\\n    \\nPlease write all conversations in Korean(한국어).\\nThink and write your step-by-step reasoning before responding.\\nWrite the article title using # in Markdown syntax.\\n\\n    <|eot_id|>\\n    <|start_header_id|>user<|end_header_id|>\\n     MoE에 대해서 파이썬 예시 코드를 첨부해서 설명해줘 on detail.\\n    <|eot_id|>\\n    <|start_header_id|>assistant<|end_header_id|>\\n',\n",
       " 'result': '# Bad title \\n\\n\\n\\n이 질문에 대한 답변은  다음과 같습니다. \\n\\n1. **Wikipedia에서 특정 페이지를 검색하려면, 페이지의 주소(URL)를 입력합니다.**  예를 들어,  \"https://en.wikipedia.org/wiki/Special:Badtitle\" 를 사용하면 Wikipedia에 \"Bad Title\" 페이지로 이동할 수 있습니다. \\n2. **페이지 URL에서 특정 제목을 찾고 싶다면, \\n\\n    * 웹사이트의 주소가 필요합니다. \\n    * 해당 웹사이트에서 \"Bad title\" 을 검색하세요. \\n\\n\\n\\n**이 글은 사용자가 도움말을 요청하는 것을 위한 예시입니다.** \\n\\n'}"
      ]
     },
     "execution_count": 11,
     "metadata": {},
     "output_type": "execute_result"
    }
   ],
   "source": [
    "response"
   ]
  },
  {
   "cell_type": "code",
   "execution_count": 12,
   "metadata": {},
   "outputs": [
    {
     "name": "stdout",
     "output_type": "stream",
     "text": [
      "# Bad title \n",
      "\n",
      "\n",
      "\n",
      "이 질문에 대한 답변은  다음과 같습니다. \n",
      "\n",
      "1. **Wikipedia에서 특정 페이지를 검색하려면, 페이지의 주소(URL)를 입력합니다.**  예를 들어,  \"https://en.wikipedia.org/wiki/Special:Badtitle\" 를 사용하면 Wikipedia에 \"Bad Title\" 페이지로 이동할 수 있습니다. \n",
      "2. **페이지 URL에서 특정 제목을 찾고 싶다면, \n",
      "\n",
      "    * 웹사이트의 주소가 필요합니다. \n",
      "    * 해당 웹사이트에서 \"Bad title\" 을 검색하세요. \n",
      "\n",
      "\n",
      "\n",
      "**이 글은 사용자가 도움말을 요청하는 것을 위한 예시입니다.** \n",
      "\n",
      "\n"
     ]
    }
   ],
   "source": [
    "print(response['result'])"
   ]
  }
 ],
 "metadata": {
  "kernelspec": {
   "display_name": "venv",
   "language": "python",
   "name": "python3"
  },
  "language_info": {
   "codemirror_mode": {
    "name": "ipython",
    "version": 3
   },
   "file_extension": ".py",
   "mimetype": "text/x-python",
   "name": "python",
   "nbconvert_exporter": "python",
   "pygments_lexer": "ipython3",
   "version": "3.10.12"
  }
 },
 "nbformat": 4,
 "nbformat_minor": 2
}
